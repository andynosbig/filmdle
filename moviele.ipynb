{
 "cells": [
  {
   "cell_type": "code",
   "execution_count": 1,
   "metadata": {},
   "outputs": [],
   "source": [
    "import csv\n",
    "import zipfile\n",
    "import random\n",
    "\n",
    "local = False\n",
    "root_path = \"./\" if local else \"/tmp/moviele-main/\"\n",
    "\n",
    "if not local:\n",
    "    !wget --no-check-certificate \"https://github.com/andynosbig/moviele/archive/refs/heads/main.zip\" -O \"/tmp/main.zip\"\n",
    "    zip_ = zipfile.ZipFile('/tmp/main.zip', 'r')\n",
    "    zip_.extractall('/tmp')\n",
    "    zip_.close()\n",
    "\n",
    "films_by_title = {}\n",
    "with open(f\"{root_path}combined.tsv\", 'r') as basics:\n",
    "    for row in csv.DictReader(basics, delimiter='\\t'):\n",
    "        films_by_title[row['title']] = row\n",
    "        films_by_title[row['title']].pop('id')\n",
    "        \n",
    "        films_by_title[row['title']]['genres'] = row['genres'].split(',')\n",
    "        films_by_title[row['title']]['principals'] = row['principals'].split(',')\n",
    "\n",
    "principalNames = {}\n",
    "with open(f\"{root_path}principals.tsv\", 'r') as basics:\n",
    "    for row in csv.DictReader(basics, delimiter='\\t'):\n",
    "        principalNames[row['id']] = row['name']\n",
    "\n",
    "genres = []\n",
    "with open(f\"{root_path}genres.csv\", 'r') as genre_csv:\n",
    "    genres = genre_csv.read().split(',')\n",
    "\n",
    "film_by_genre = {}\n",
    "for genre in genres:\n",
    "    film_by_genre[genre] = {t:f for t,f in films_by_title.items() if genre in f['genres']}\n"
   ]
  },
  {
   "cell_type": "code",
   "execution_count": 18,
   "metadata": {},
   "outputs": [
    {
     "data": {
      "application/vnd.jupyter.widget-view+json": {
       "model_id": "83ebbd06d2fb4754acfce87192749f2c",
       "version_major": 2,
       "version_minor": 0
      },
      "text/plain": [
       "interactive(children=(Combobox(value='', description='x'), Output()), _dom_classes=('widget-interact',))"
      ]
     },
     "metadata": {},
     "output_type": "display_data"
    },
    {
     "data": {
      "application/vnd.jupyter.widget-view+json": {
       "model_id": "8bc50f583c594f2cb0d4fd66d061ec20",
       "version_major": 2,
       "version_minor": 0
      },
      "text/plain": [
       "interactive(children=(RadioButtons(description='genres', options=('Sport', 'Horror', 'Biography', 'Action', 'C…"
      ]
     },
     "metadata": {},
     "output_type": "display_data"
    },
    {
     "data": {
      "application/vnd.jupyter.widget-view+json": {
       "model_id": "9e7456ffc8e049e2836d8ee0350ab85f",
       "version_major": 2,
       "version_minor": 0
      },
      "text/plain": [
       "HBox(children=(Button(description='Reset Target Film', style=ButtonStyle()), Button(description='Show Answer',…"
      ]
     },
     "metadata": {},
     "output_type": "display_data"
    },
    {
     "data": {
      "application/vnd.jupyter.widget-view+json": {
       "model_id": "bee880a09d8148118146f0099c7ec753",
       "version_major": 2,
       "version_minor": 0
      },
      "text/plain": [
       "Output(layout=Layout(border='1px solid black'))"
      ]
     },
     "metadata": {},
     "output_type": "display_data"
    }
   ],
   "source": [
    "from ipywidgets import interact, interactive, fixed, interact_manual\n",
    "from IPython.display import display\n",
    "\n",
    "import ipywidgets as widgets\n",
    "\n",
    "class Target:\n",
    "    film = None\n",
    "    guesses = 0\n",
    "\n",
    "class Genre():\n",
    "    genre = None\n",
    "    \n",
    "def get_random_item(list_):\n",
    "    return list(list_)[random.randint(0, len(list_)-1)]\n",
    "\n",
    "def calc_list_similarity(listA, listB):\n",
    "    return 100 * (len(set(listA)&set(listB)) / len(set(listA)|set(listB))), list(set(listA)&set(listB))\n",
    "    \n",
    "def run():\n",
    "    selected_genre = Genre()\n",
    "    selected_genre.genre = genres[0]\n",
    "    \n",
    "\n",
    "    out = widgets.Output(layout={'border': '1px solid black'})\n",
    "    target = Target()\n",
    "\n",
    "    def test_guess(x):\n",
    "        if x not in film_by_genre[selected_genre.genre]:\n",
    "            return\n",
    "\n",
    "        target.guesses += 1\n",
    "        if film_by_genre[selected_genre.genre][x] == target.film:\n",
    "            with out:\n",
    "                print(f\"\\n{target.guesses} {x}\\t\\t'Success!'\")\n",
    "                return\n",
    "\n",
    "        \n",
    "        guess_film = film_by_genre[selected_genre.genre][x]\n",
    "        genre_percentage, genre_overlap = calc_list_similarity(guess_film['genres'], target.film['genres'])\n",
    "        principals_percentage, principals_overlap = calc_list_similarity(guess_film['principals'], target.film['principals'])\n",
    "        principal_name_overlap = [principalNames[x] for x in principals_overlap]\n",
    "        year_diff = int(guess_film['startYear']) - int(target.film['startYear'])\n",
    "\n",
    "        result = f\"\\n{target.guesses} {x} - \\n\\tprincipal overlap\\t{','.join(principal_name_overlap)}  \\n\\tgenre overlap\\t\\t{','.join(genre_overlap)} \\n\\tRelease date\\t\\t{abs(year_diff)} {'earlier' if year_diff < 0 else 'later'} than target\"\n",
    "        with out:\n",
    "            print(result)\n",
    "\n",
    "    combo = widgets.Combobox()\n",
    "    interact(test_guess, x=combo)\n",
    "    def setup_combo():\n",
    "        combo.options=sorted(film_by_genre[selected_genre.genre].keys())\n",
    "    setup_combo()\n",
    "\n",
    "    def get_hint(event):\n",
    "        with out:\n",
    "            print(f\"hint,  {principalNames[get_random_item(target.film['principals'])]} is involved in this film\")\n",
    "\n",
    "    def set_new_target(event):\n",
    "        target.film = get_random_item(film_by_genre[selected_genre.genre].values())\n",
    "        target.guesses = 0\n",
    "        out.clear_output()\n",
    "        get_hint(None)\n",
    "\n",
    "    genre_rbs = widgets.RadioButtons(options=genres, description=\"genres\", disabled=False)\n",
    "    def choose_genre(genre):\n",
    "        selected_genre.genre = genre\n",
    "        set_new_target(None)\n",
    "        setup_combo()\n",
    "\n",
    "    widgets.interact(choose_genre, genre = genre_rbs)\n",
    "\n",
    "    new_target_button = widgets.Button(description = 'Reset Target Film')\n",
    "    get_answer_button = widgets.Button(description = 'Show Answer')\n",
    "    get_hint_button = widgets.Button(description = 'Hint')\n",
    "    \n",
    "    get_hint_button.on_click(get_hint)\n",
    "\n",
    "    set_new_target(None)\n",
    "    new_target_button.on_click(set_new_target)\n",
    "\n",
    "    def show_answer(event):\n",
    "        with out:\n",
    "            print(\"Answer: \", target.film['title'])\n",
    "\n",
    "    get_answer_button.on_click(show_answer)\n",
    "    display(widgets.HBox((new_target_button, get_answer_button, get_hint_button)))   \n",
    "\n",
    "    display(out)\n",
    "    #interact(test_guess, x=films)\n",
    "    interact\n",
    "\n",
    "\n",
    "run()"
   ]
  }
 ],
 "metadata": {
  "interpreter": {
   "hash": "31f2aee4e71d21fbe5cf8b01ff0e069b9275f58929596ceb00d14d90e3e16cd6"
  },
  "kernelspec": {
   "display_name": "Python 3.8.10 64-bit",
   "language": "python",
   "name": "python3"
  },
  "language_info": {
   "codemirror_mode": {
    "name": "ipython",
    "version": 3
   },
   "file_extension": ".py",
   "mimetype": "text/x-python",
   "name": "python",
   "nbconvert_exporter": "python",
   "pygments_lexer": "ipython3",
   "version": "3.8.10"
  },
  "orig_nbformat": 4
 },
 "nbformat": 4,
 "nbformat_minor": 2
}
