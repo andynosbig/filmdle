{
 "cells": [
  {
   "cell_type": "code",
   "execution_count": 7,
   "metadata": {},
   "outputs": [
    {
     "name": "stdout",
     "output_type": "stream",
     "text": [
      "--2022-02-19 21:37:27--  https://github.com/andynosbig/moviele/archive/refs/heads/main.zip\n",
      "Resolving github.com (github.com)... 81.99.162.48, 2a02:8801:200:1::1\n",
      "Connecting to github.com (github.com)|81.99.162.48|:443... connected.\n",
      "HTTP request sent, awaiting response... 302 Found\n",
      "Location: https://codeload.github.com/andynosbig/moviele/zip/refs/heads/main [following]\n",
      "--2022-02-19 21:37:28--  https://codeload.github.com/andynosbig/moviele/zip/refs/heads/main\n",
      "Resolving codeload.github.com (codeload.github.com)... 140.82.121.9\n",
      "Connecting to codeload.github.com (codeload.github.com)|140.82.121.9|:443... connected.\n",
      "HTTP request sent, awaiting response... 200 OK\n",
      "Length: unspecified [application/zip]\n",
      "Saving to: ‘/tmp/main.zip’\n",
      "\n",
      "/tmp/main.zip           [  <=>               ] 778.63K  2.37MB/s    in 0.3s    \n",
      "\n",
      "2022-02-19 21:37:28 (2.37 MB/s) - ‘/tmp/main.zip’ saved [797315]\n",
      "\n"
     ]
    }
   ],
   "source": [
    "import csv\n",
    "import zipfile\n",
    "import random\n",
    "\n",
    "!wget --no-check-certificate \"https://github.com/andynosbig/moviele/archive/refs/heads/main.zip\" -O \"/tmp/main.zip\"\n",
    "zip_ = zipfile.ZipFile('/tmp/main.zip', 'r')\n",
    "zip_.extractall('/tmp')\n",
    "zip_.close()\n",
    "\n",
    "filmsByTitle = {}\n",
    "with open(\"/tmp/moviele-main/combined.tsv\", 'r') as basics:\n",
    "    for row in csv.DictReader(basics, delimiter='\\t'):\n",
    "        filmsByTitle[row['title']] = row\n",
    "        filmsByTitle[row['title']].pop('id')\n",
    "        \n",
    "        filmsByTitle[row['title']]['genres'] = row['genres'].split(',')\n",
    "        filmsByTitle[row['title']]['principals'] = row['principals'].split(',')\n",
    "        filmsByTitle[row['title']].pop('title')\n",
    "\n",
    "principalNames = {}\n",
    "with open(\"/tmp/moviele-main/principals.tsv\", 'r') as basics:\n",
    "    for row in csv.DictReader(basics, delimiter='\\t'):\n",
    "        principalNames[row['id']] = row['name']"
   ]
  },
  {
   "cell_type": "code",
   "execution_count": 26,
   "metadata": {},
   "outputs": [
    {
     "data": {
      "application/vnd.jupyter.widget-view+json": {
       "model_id": "4294089746564816af3733525323eff5",
       "version_major": 2,
       "version_minor": 0
      },
      "text/plain": [
       "interactive(children=(Dropdown(description='x', options=('-', '12 Monkeys', '12 Years a Slave', '13 Assassins'…"
      ]
     },
     "metadata": {},
     "output_type": "display_data"
    },
    {
     "data": {
      "text/plain": [
       "<function __main__.test_film(x)>"
      ]
     },
     "execution_count": 26,
     "metadata": {},
     "output_type": "execute_result"
    }
   ],
   "source": [
    "def get_random_item(list_):\n",
    "    return list(list_)[random.randint(0, len(list_))]\n",
    "\n",
    "def calc_list_similarity(listA, listB):\n",
    "    return 100 * (len(set(listA)&set(listB)) / len(set(listA)|set(listB))), \"'\".join(list(set(listA)&set(listB)))\n",
    "    \n",
    "def test_guess(x):\n",
    "    global current_results\n",
    "    global random_film\n",
    "    \n",
    "    if x not in filmsByTitle:\n",
    "        return\n",
    "\n",
    "    if filmsByTitle[x] == random_film:\n",
    "        return \"Success!\"\n",
    "\n",
    "    guess_film = filmsByTitle[x]\n",
    "    genre_percentage, genre_overlap = calc_list_similarity(guess_film['genres'], random_film['genres'])\n",
    "    principals_percentage, principals_overlap = calc_list_similarity(guess_film['principal_ids'], random_film['principal_ids'])\n",
    "    principal_name_overlap = [principalNames[x] for x in principals_overlap]\n",
    "    year_diff = int(guess_film['startYear']) - int(random_film['startYear'])\n",
    "    result = f\"{x} - \\nprincipal matches={principals_percentage}% - {principal_name_overlap}\\ngenre matches={genre_percentage}% - {genre_overlap} - year difference={year_diff}\"\n",
    "    current_results += result + \"\\n\\n\"\n",
    "    return current_results\n",
    "\n",
    "def get_new_target():\n",
    "    global current_results\n",
    "    global random_film\n",
    "    \n",
    "    random_film = filmsByTitle[\"Harry Potter and the Sorcerer's Stone\"]#get_random_item(filmsByTitle.values())\n",
    "    print(f\"hint,  {get_random_item(random_film['principals'])} is involved in this film\")\n",
    "    current_results = \"\"\n",
    "    \n",
    "def show_answer():\n",
    "    print(random_film['title'])\n",
    "\n",
    "from ipywidgets import interact, interactive, fixed, interact_manual\n",
    "from IPython.display import display\n",
    "import ipywidgets as widgets\n",
    "\n",
    "def run():\n",
    "    output = widgets.Output()\n",
    "    new_target_button = widgets.Button(description=\"Reset Target Film\")\n",
    "    display(new_target_button, output)\n",
    "    new_target_button.on_click(get_new_target)\n",
    "\n",
    "    get_answer_button = widgets.Button(description=\"Show Answer\")\n",
    "    display(get_answer_button, output)\n",
    "    get_answer_button.on_click(show_answer)\n",
    "\n",
    "    films = [\"-\"]\n",
    "    films.extend(sorted(filmsByTitle.keys()))\n",
    "    interact(test_guess, x=films)\n",
    "    interact\n",
    "\n",
    "run()"
   ]
  }
 ],
 "metadata": {
  "interpreter": {
   "hash": "31f2aee4e71d21fbe5cf8b01ff0e069b9275f58929596ceb00d14d90e3e16cd6"
  },
  "kernelspec": {
   "display_name": "Python 3.8.10 64-bit",
   "language": "python",
   "name": "python3"
  },
  "language_info": {
   "codemirror_mode": {
    "name": "ipython",
    "version": 3
   },
   "file_extension": ".py",
   "mimetype": "text/x-python",
   "name": "python",
   "nbconvert_exporter": "python",
   "pygments_lexer": "ipython3",
   "version": "3.8.10"
  },
  "orig_nbformat": 4
 },
 "nbformat": 4,
 "nbformat_minor": 2
}
