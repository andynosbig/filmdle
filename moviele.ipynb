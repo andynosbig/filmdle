{
 "cells": [
  {
   "cell_type": "code",
   "execution_count": 1,
   "metadata": {},
   "outputs": [],
   "source": [
    "import csv\n",
    "import random\n",
    "actorsById = {}\n",
    "with open(\"name.short.tsv\", 'r') as actors:\n",
    "    reader = csv.DictReader(actors, delimiter='\\t')\n",
    "    for row in reader:\n",
    "        actorsById[row['id']] = row['name']\n",
    "\n",
    "filmsByTitle = {}\n",
    "with open(\"combined.tsv\", 'r') as basics:\n",
    "    reader = csv.DictReader(basics, delimiter='\\t')\n",
    "    for row in reader:\n",
    "        filmsByTitle[row['title']] = row\n",
    "        filmsByTitle[row['title']]['genres'] = row['genres'].split(',')\n",
    "        filmsByTitle[row['title']]['principals'] = row['principals'].split(',')"
   ]
  },
  {
   "cell_type": "code",
   "execution_count": 2,
   "metadata": {},
   "outputs": [],
   "source": [
    "def get_random_film():\n",
    "    r = random.randint(0, len(filmsByTitle))\n",
    "    randomFilm = list(filmsByTitle.values())[r]\n",
    "    return randomFilm"
   ]
  },
  {
   "cell_type": "code",
   "execution_count": 94,
   "metadata": {},
   "outputs": [],
   "source": [
    "def get_list_percentage_similarity(listA, listB):\n",
    "    return 100 * (len(set(listA)&set(listB)) / len(set(listA)|set(listB)))"
   ]
  },
  {
   "cell_type": "code",
   "execution_count": 110,
   "metadata": {},
   "outputs": [],
   "source": [
    "def test_film(x):\n",
    "    global current_results\n",
    "    global random_film\n",
    "    if x not in filmsByTitle:\n",
    "        return\n",
    "    if filmsByTitle[x] == random_film:\n",
    "        return \"Success!\"\n",
    "\n",
    "    guess_film = filmsByTitle[x]\n",
    "    genre_diff = get_list_percentage_similarity(guess_film['genres'], random_film['genres'])\n",
    "    principals_diff = get_list_percentage_similarity(guess_film['principals'], random_film['principals'])\n",
    "    year_diff = int(guess_film['startYear']) - int(random_film['startYear'])\n",
    "    guess_principal_names = \",\".join([actorsById.get(p, \"\") for p in guess_film['principals']])\n",
    "    guess_genres = \",\".join(guess_film['genres'])\n",
    "    result = f\"{x} - \\nprincipal matches={principals_diff}%\\n{guess_principal_names}\\ngenre matches={genre_diff}%\\n{guess_genres}\\nyear difference={year_diff}\"\n",
    "    current_results += result + \"\\n\\n\"\n",
    "    print(current_results)"
   ]
  },
  {
   "cell_type": "code",
   "execution_count": 111,
   "metadata": {},
   "outputs": [
    {
     "name": "stdout",
     "output_type": "stream",
     "text": [
      "cheat, answer is Sinais de Vida\n"
     ]
    }
   ],
   "source": [
    "random_film = get_random_film()\n",
    "print(f\"cheat, answer is {random_film['title']}\")\n",
    "current_results = \"\""
   ]
  },
  {
   "cell_type": "code",
   "execution_count": 112,
   "metadata": {},
   "outputs": [
    {
     "data": {
      "application/vnd.jupyter.widget-view+json": {
       "model_id": "63eef56adc214d278b49a130d9aced4b",
       "version_major": 2,
       "version_minor": 0
      },
      "text/plain": [
       "interactive(children=(Dropdown(description='x', options=('-', '1984', '71 Fragments of a Chronology of Chance'…"
      ]
     },
     "metadata": {},
     "output_type": "display_data"
    },
    {
     "data": {
      "text/plain": [
       "<function __main__.test_film(x)>"
      ]
     },
     "execution_count": 112,
     "metadata": {},
     "output_type": "execute_result"
    }
   ],
   "source": [
    "from ipywidgets import interact, interactive, fixed, interact_manual\n",
    "import ipywidgets as widgets\n",
    "films = [\"-\"]\n",
    "films.extend(sorted(filmsByTitle.keys()))\n",
    "interact(test_film, x=films)"
   ]
  }
 ],
 "metadata": {
  "interpreter": {
   "hash": "31f2aee4e71d21fbe5cf8b01ff0e069b9275f58929596ceb00d14d90e3e16cd6"
  },
  "kernelspec": {
   "display_name": "Python 3.8.10 64-bit",
   "language": "python",
   "name": "python3"
  },
  "language_info": {
   "codemirror_mode": {
    "name": "ipython",
    "version": 3
   },
   "file_extension": ".py",
   "mimetype": "text/x-python",
   "name": "python",
   "nbconvert_exporter": "python",
   "pygments_lexer": "ipython3",
   "version": "3.8.10"
  },
  "orig_nbformat": 4
 },
 "nbformat": 4,
 "nbformat_minor": 2
}
