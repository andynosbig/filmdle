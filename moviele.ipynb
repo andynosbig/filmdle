{
 "cells": [
  {
   "cell_type": "code",
   "execution_count": 13,
   "metadata": {},
   "outputs": [
    {
     "name": "stdout",
     "output_type": "stream",
     "text": [
      "--2022-02-19 23:39:27--  https://github.com/andynosbig/moviele/archive/refs/heads/main.zip\n",
      "Resolving github.com (github.com)... 81.99.162.48, 2a02:8801:200:1::1\n",
      "Connecting to github.com (github.com)|81.99.162.48|:443... connected.\n",
      "HTTP request sent, awaiting response... 302 Found\n",
      "Location: https://codeload.github.com/andynosbig/moviele/zip/refs/heads/main [following]\n",
      "--2022-02-19 23:39:28--  https://codeload.github.com/andynosbig/moviele/zip/refs/heads/main\n",
      "Resolving codeload.github.com (codeload.github.com)... 140.82.121.9\n",
      "Connecting to codeload.github.com (codeload.github.com)|140.82.121.9|:443... connected.\n",
      "HTTP request sent, awaiting response... 200 OK\n",
      "Length: 81312 (79K) [application/zip]\n",
      "Saving to: ‘/tmp/main.zip’\n",
      "\n",
      "/tmp/main.zip       100%[===================>]  79.41K  --.-KB/s    in 0.08s   \n",
      "\n",
      "2022-02-19 23:39:28 (1.02 MB/s) - ‘/tmp/main.zip’ saved [81312/81312]\n",
      "\n"
     ]
    }
   ],
   "source": [
    "import csv\n",
    "import zipfile\n",
    "import random\n",
    "\n",
    "!wget --no-check-certificate \"https://github.com/andynosbig/moviele/archive/refs/heads/main.zip\" -O \"/tmp/main.zip\"\n",
    "zip_ = zipfile.ZipFile('/tmp/main.zip', 'r')\n",
    "zip_.extractall('/tmp')\n",
    "zip_.close()\n",
    "\n",
    "filmsByTitle = {}\n",
    "with open(\"/tmp/moviele-main/combined.tsv\", 'r') as basics:\n",
    "    for row in csv.DictReader(basics, delimiter='\\t'):\n",
    "        filmsByTitle[row['title']] = row\n",
    "        filmsByTitle[row['title']].pop('id')\n",
    "        \n",
    "        filmsByTitle[row['title']]['genres'] = row['genres'].split(',')\n",
    "        filmsByTitle[row['title']]['principals'] = row['principals'].split(',')\n",
    "\n",
    "principalNames = {}\n",
    "with open(\"/tmp/moviele-main/principals.tsv\", 'r') as basics:\n",
    "    for row in csv.DictReader(basics, delimiter='\\t'):\n",
    "        principalNames[row['id']] = row['name']"
   ]
  },
  {
   "cell_type": "code",
   "execution_count": 26,
   "metadata": {},
   "outputs": [
    {
     "data": {
      "application/vnd.jupyter.widget-view+json": {
       "model_id": "8c9f26c65a564684b476d5a458f1d175",
       "version_major": 2,
       "version_minor": 0
      },
      "text/plain": [
       "HBox(children=(Button(description='Reset Target Film', style=ButtonStyle()), Button(description='Show Answer',…"
      ]
     },
     "metadata": {},
     "output_type": "display_data"
    },
    {
     "data": {
      "application/vnd.jupyter.widget-view+json": {
       "model_id": "331eec6e3565409c932f0a738fc9d037",
       "version_major": 2,
       "version_minor": 0
      },
      "text/plain": [
       "Output(layout=Layout(border='1px solid black'))"
      ]
     },
     "metadata": {},
     "output_type": "display_data"
    },
    {
     "data": {
      "application/vnd.jupyter.widget-view+json": {
       "model_id": "fc5362f91f8b43b19d2023d4c1ff0030",
       "version_major": 2,
       "version_minor": 0
      },
      "text/plain": [
       "interactive(children=(Dropdown(description='x', options=('-', '12 Monkeys', '12 Years a Slave', '13 Assassins'…"
      ]
     },
     "metadata": {},
     "output_type": "display_data"
    }
   ],
   "source": [
    "from ipywidgets import interact, interactive, fixed, interact_manual\n",
    "from IPython.display import display\n",
    "import ipywidgets as widgets\n",
    "\n",
    "class Target:\n",
    "    film = None\n",
    "    guesses = 0\n",
    "    \n",
    "def get_random_item(list_):\n",
    "    return list(list_)[random.randint(0, len(list_)-1)]\n",
    "\n",
    "def calc_list_similarity(listA, listB):\n",
    "    return 100 * (len(set(listA)&set(listB)) / len(set(listA)|set(listB))), list(set(listA)&set(listB))\n",
    "    \n",
    "def run():\n",
    "    new_target_button = widgets.Button(description = 'Reset Target Film')\n",
    "    get_answer_button = widgets.Button(description = 'Show Answer')\n",
    "    \n",
    "    out = widgets.Output(layout={'border': '1px solid black'})\n",
    "    target = Target()\n",
    "    def set_new_target(event):\n",
    "        target.film = get_random_item(filmsByTitle.values())\n",
    "        target.guesses = 0\n",
    "        out.clear_output()\n",
    "        with out:\n",
    "            print(f\"hint,  {principalNames[get_random_item(target.film['principals'])]} is involved in this film\")\n",
    "\n",
    "    set_new_target(None)\n",
    "    new_target_button.on_click(set_new_target)\n",
    "\n",
    "    def show_answer(event):\n",
    "        with out:\n",
    "            print(\"Answer: \", target.film['title'])\n",
    "\n",
    "    get_answer_button.on_click(show_answer)\n",
    "    display(widgets.HBox((new_target_button, get_answer_button)))   \n",
    "    films = [\"-\"]\n",
    "    films.extend(sorted(filmsByTitle.keys()))\n",
    "    display(out)\n",
    "\n",
    "    def test_guess(x):\n",
    "        if x not in filmsByTitle:\n",
    "            return\n",
    "\n",
    "        if filmsByTitle[x] == target.film:\n",
    "            return \"Success!\"\n",
    "        target.guesses += 1\n",
    "        guess_film = filmsByTitle[x]\n",
    "        genre_percentage, genre_overlap = calc_list_similarity(guess_film['genres'], target.film['genres'])\n",
    "        principals_percentage, principals_overlap = calc_list_similarity(guess_film['principals'], target.film['principals'])\n",
    "        principal_name_overlap = [principalNames[x] for x in principals_overlap]\n",
    "        year_diff = int(guess_film['startYear']) - int(target.film['startYear'])\n",
    "        result = f\"\\n{target.guesses} {x} - \\n\\tprincipal matches\\t{principals_percentage}% - {principal_name_overlap}  \\n\\tgenre matches\\t\\t{genre_percentage}% - {genre_overlap} - year difference {year_diff}\"\n",
    "        with out:\n",
    "            print(result)\n",
    "\n",
    "    interact(test_guess, x=films)\n",
    "    interact\n",
    "\n",
    "\n",
    "run()"
   ]
  }
 ],
 "metadata": {
  "interpreter": {
   "hash": "31f2aee4e71d21fbe5cf8b01ff0e069b9275f58929596ceb00d14d90e3e16cd6"
  },
  "kernelspec": {
   "display_name": "Python 3.8.10 64-bit",
   "language": "python",
   "name": "python3"
  },
  "language_info": {
   "codemirror_mode": {
    "name": "ipython",
    "version": 3
   },
   "file_extension": ".py",
   "mimetype": "text/x-python",
   "name": "python",
   "nbconvert_exporter": "python",
   "pygments_lexer": "ipython3",
   "version": "3.8.10"
  },
  "orig_nbformat": 4
 },
 "nbformat": 4,
 "nbformat_minor": 2
}
